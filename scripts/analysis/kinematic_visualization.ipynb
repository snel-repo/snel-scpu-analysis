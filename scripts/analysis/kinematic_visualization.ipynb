{
 "cells": [
  {
   "cell_type": "code",
   "execution_count": null,
   "metadata": {},
   "outputs": [],
   "source": [
    "import matplotlib.pyplot as plt\n",
    "import matplotlib.animation as animation\n",
    "from IPython.display import HTML\n",
    "import yaml\n",
    "from analysis_utils import *"
   ]
  },
  {
   "cell_type": "code",
   "execution_count": null,
   "metadata": {},
   "outputs": [],
   "source": [
    "yaml_config_path = \"../configs/lfads_dataset_cfg.yaml\"\n",
    "\n",
    "dataset, bin_size = load_dataset_and_binsize(yaml_config_path)"
   ]
  },
  {
   "cell_type": "code",
   "execution_count": null,
   "metadata": {},
   "outputs": [],
   "source": [
    "kinematic_dataset = dataset.data.kin_pos.toe_x\n",
    "\n",
    "start_ixs, end_ixs = find_kinematic_ranges(kinematic_dataset)"
   ]
  },
  {
   "cell_type": "code",
   "execution_count": null,
   "metadata": {},
   "outputs": [],
   "source": [
    "plt.rcParams['animation.embed_limit'] = 500"
   ]
  },
  {
   "cell_type": "code",
   "execution_count": null,
   "metadata": {},
   "outputs": [],
   "source": [
    "# ANIMATED KINEMATIC PLOT\n",
    "start_ix = start_ixs[0]\n",
    "end_ix = start_ixs[0]\n",
    "fig, ax = plt.subplots()\n",
    "\n",
    "xdata, ydata = dataset.data.kin_pos.toe_x.iloc[start_ix:end_ix], -1*dataset.data.kin_pos.toe_y.iloc[start_ix:end_ix]\n",
    "ln, = plt.plot([], [], 'ro')\n",
    "\n",
    "def init():\n",
    "    ax.set_xlim(min(xdata), max(xdata))\n",
    "    ax.set_ylim(min(ydata), max(ydata))\n",
    "    \n",
    "    ax.set_title(\"recording period \" + str(i+1) + \" for \" + xdata.name)\n",
    "    return ln,\n",
    "\n",
    "def update(frame):\n",
    "    start = max(0, frame-2)  # Start from the current frame, go 2 frames back\n",
    "    ln.set_data(xdata.iloc[start:frame+1], ydata.iloc[start:frame+1])  # frame+1 to include the current frame\n",
    "    return ln,\n",
    "\n",
    "ani = animation.FuncAnimation(fig, update, frames=range(len(xdata)),\n",
    "                                init_func=init, blit=True)\n",
    "\n",
    "display(HTML(ani.to_jshtml()))\n",
    "plt.close()"
   ]
  },
  {
   "cell_type": "code",
   "execution_count": null,
   "metadata": {},
   "outputs": [],
   "source": []
  },
  {
   "cell_type": "code",
   "execution_count": null,
   "metadata": {},
   "outputs": [],
   "source": [
    "# For each recording period\n",
    "for i, (start_ix, end_ix) in enumerate(zip(start_ixs, end_ixs)):\n",
    "    fig, ax = plt.subplots()\n",
    "\n",
    "    xdata, ydata = dataset.data.kin_pos.toe_x.iloc[start_ix:end_ix], -1*dataset.data.kin_pos.toe_y.iloc[start_ix:end_ix]\n",
    "    ln, = plt.plot([], [], 'ro')\n",
    "\n",
    "    def init():\n",
    "        ax.set_xlim(min(xdata), max(xdata))\n",
    "        ax.set_ylim(min(ydata), max(ydata))\n",
    "        ax.set_title(\"recording period \" + str(i+1) + \" for \" + xdata.name)\n",
    "        return ln,\n",
    "\n",
    "    def update(frame):\n",
    "        ln.set_data(xdata.iloc[:frame], ydata.iloc[:frame])\n",
    "        return ln,\n",
    "\n",
    "    ani = animation.FuncAnimation(fig, update, frames=range(len(xdata)),\n",
    "                                  init_func=init, blit=True)\n",
    "\n",
    "    display(HTML(ani.to_jshtml()))\n",
    "    plt.close()"
   ]
  },
  {
   "cell_type": "code",
   "execution_count": null,
   "metadata": {},
   "outputs": [],
   "source": [
    "thresh = \n",
    "plt.plot(np.diff(kinematic_dataset.iloc[start_ixs[0]:end_ixs[0]]))"
   ]
  }
 ],
 "metadata": {
  "kernelspec": {
   "display_name": "stkit-nwb",
   "language": "python",
   "name": "python3"
  },
  "language_info": {
   "codemirror_mode": {
    "name": "ipython",
    "version": 3
   },
   "file_extension": ".py",
   "mimetype": "text/x-python",
   "name": "python",
   "nbconvert_exporter": "python",
   "pygments_lexer": "ipython3",
   "version": "3.7.16"
  }
 },
 "nbformat": 4,
 "nbformat_minor": 2
}
